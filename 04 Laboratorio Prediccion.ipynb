{
 "cells": [
  {
   "cell_type": "markdown",
   "metadata": {
    "id": "D9uxIwa6gNC0"
   },
   "source": [
    "#Laboratorio 4: Predicción y Decisión de umbral\n",
    "#Analytics y Big Data: Ciencia de los Datos aplicada al mundo de los negocios"
   ]
  },
  {
   "cell_type": "markdown",
   "metadata": {
    "id": "j4QiHZqIvjMw"
   },
   "source": [
    "En este laboratorio, aplicaremos el mejor modelo encontrado con los datos de crédito (SVM) sobre nuevos clientes que no sabemos su comportamiento. De esta forma emulamos lo que sería una eventual aplicación de un modelo predictivo.\n",
    "\n",
    "Primero importamos las librerías a utilizar:"
   ]
  },
  {
   "cell_type": "code",
   "execution_count": 35,
   "metadata": {
    "id": "YbkTxLMQvlhg"
   },
   "outputs": [],
   "source": [
    "import warnings\n",
    "warnings.simplefilter(action='ignore', category=FutureWarning)\n",
    "import pandas as pd\n",
    "import numpy as np\n",
    "from sklearn.preprocessing import MinMaxScaler\n",
    "import pandas.util.testing as tm\n",
    "from joblib import dump, load"
   ]
  },
  {
   "cell_type": "markdown",
   "metadata": {
    "id": "Xh_5SO839zvb"
   },
   "source": [
    "Volvemos a montar google drive para que reconozca nuestra base de datos:\n",
    "\n",
    "**Cuando corra la siguiente linea, le pedira un código, por favor siga las intrucciones a continuación, inserte el código entregado y presione enter**"
   ]
  },
  {
   "cell_type": "markdown",
   "metadata": {
    "id": "_Pec3C5J_u7U"
   },
   "source": [
    "Cargamos el archivo con la base de datos de testeo (segunda hoja del excel):"
   ]
  },
  {
   "cell_type": "code",
   "execution_count": 36,
   "metadata": {
    "id": "omzCCUKP_4J2"
   },
   "outputs": [],
   "source": [
    "path = \"C:\\\\Users\\\\PC SITOS\\\\AnalyticsYbigData\\\\creditSIM.xlsx\"\n",
    "data_set = pd.read_excel(path, sheet_name = 'prediccion')"
   ]
  },
  {
   "cell_type": "markdown",
   "metadata": {
    "id": "hqmU6HUr_4ma"
   },
   "source": [
    "Cargamos ahora el archivo con el modelo entrenado:"
   ]
  },
  {
   "cell_type": "code",
   "execution_count": 37,
   "metadata": {
    "id": "gWhourz_04H5"
   },
   "outputs": [],
   "source": [
    "modelo_entrenado = load('C:\\\\Users\\\\PC SITOS\\\\AnalyticsYbigData\\\\modelo_entrenado.joblib')"
   ]
  },
  {
   "cell_type": "markdown",
   "metadata": {
    "id": "pmAyT8LaExRp"
   },
   "source": [
    "Nuestro objeto data_set tiene las variables independientes que nos ayudarán a predecir la variable objetivo (si cliente cae en default o no). \n",
    "\n",
    "Antes de aplicar el modelo, debemos replicar el preprocesamiento a este nuevo *set* de datos."
   ]
  },
  {
   "cell_type": "markdown",
   "metadata": {
    "id": "rHzdVagdmF-h"
   },
   "source": [
    "#Preprocesamiento de datos de predicción"
   ]
  },
  {
   "cell_type": "markdown",
   "metadata": {
    "id": "I7s7ou2amI7V"
   },
   "source": [
    "Veamos que contiene nuestra base de datos de predicción:\n"
   ]
  },
  {
   "cell_type": "code",
   "execution_count": 38,
   "metadata": {
    "id": "VL3jifrMJeRC"
   },
   "outputs": [
    {
     "name": "stdout",
     "output_type": "stream",
     "text": [
      "         ID  AgnosDirec  AgnosEmpleo      DeudaExt     DeudaInt  Edad  \\\n",
      "0    103001         9.0          5.0   5831.594611  2509.745975    23   \n",
      "1    103002         4.0          4.0   1305.171417    82.209945    41   \n",
      "2    103003         8.0          4.0  11519.216306  3876.960332    39   \n",
      "3    103004         1.0          2.0    854.973405   927.250911    53   \n",
      "4    103005        11.0          7.0   6910.126741  1369.823025    53   \n",
      "..      ...         ...          ...           ...          ...   ...   \n",
      "995  103996         7.0          6.0   1202.501905   206.036968    47   \n",
      "996  103997         4.0          5.0   1905.313132  2042.001078    34   \n",
      "997  103998        13.0          3.0   6995.085180  1365.744698    21   \n",
      "998  103999         6.0          3.0    873.790012   662.237955    46   \n",
      "999  104000         0.0          0.0     47.518211    25.035199    35   \n",
      "\n",
      "          Ingreso      Ingreso2 Nacionalidad NivelEdu  \n",
      "0    78209.280104  61359.560021            N   SupCom  \n",
      "1    25328.156032  21402.359671            N   SupInc  \n",
      "2    78243.260287  70155.668032            N      Med  \n",
      "3    34043.450779  31178.580505            N   SupCom  \n",
      "4    86085.788836  58437.844886            N      Bas  \n",
      "..            ...           ...          ...      ...  \n",
      "995  49160.723702  46646.838382            N      Med  \n",
      "996  53311.654014  41824.930145            N      Bas  \n",
      "997  91576.339356  67196.496621            N   SupInc  \n",
      "998  12339.826557   8886.419312            N      Bas  \n",
      "999   6829.598681   6797.606907            N      Bas  \n",
      "\n",
      "[1000 rows x 10 columns]\n"
     ]
    }
   ],
   "source": [
    "print(data_set)"
   ]
  },
  {
   "cell_type": "code",
   "execution_count": 39,
   "metadata": {
    "id": "HO5J1M_SXoud"
   },
   "outputs": [
    {
     "data": {
      "text/html": [
       "<div>\n",
       "<style scoped>\n",
       "    .dataframe tbody tr th:only-of-type {\n",
       "        vertical-align: middle;\n",
       "    }\n",
       "\n",
       "    .dataframe tbody tr th {\n",
       "        vertical-align: top;\n",
       "    }\n",
       "\n",
       "    .dataframe thead th {\n",
       "        text-align: right;\n",
       "    }\n",
       "</style>\n",
       "<table border=\"1\" class=\"dataframe\">\n",
       "  <thead>\n",
       "    <tr style=\"text-align: right;\">\n",
       "      <th></th>\n",
       "      <th>ID</th>\n",
       "      <th>AgnosDirec</th>\n",
       "      <th>AgnosEmpleo</th>\n",
       "      <th>DeudaExt</th>\n",
       "      <th>DeudaInt</th>\n",
       "      <th>Edad</th>\n",
       "      <th>Ingreso</th>\n",
       "      <th>Ingreso2</th>\n",
       "      <th>Nacionalidad</th>\n",
       "      <th>NivelEdu</th>\n",
       "    </tr>\n",
       "  </thead>\n",
       "  <tbody>\n",
       "    <tr>\n",
       "      <th>count</th>\n",
       "      <td>1000.000000</td>\n",
       "      <td>999.000000</td>\n",
       "      <td>998.000000</td>\n",
       "      <td>999.000000</td>\n",
       "      <td>998.000000</td>\n",
       "      <td>1000.000000</td>\n",
       "      <td>999.000000</td>\n",
       "      <td>1000.000000</td>\n",
       "      <td>1000</td>\n",
       "      <td>1000</td>\n",
       "    </tr>\n",
       "    <tr>\n",
       "      <th>unique</th>\n",
       "      <td>NaN</td>\n",
       "      <td>NaN</td>\n",
       "      <td>NaN</td>\n",
       "      <td>NaN</td>\n",
       "      <td>NaN</td>\n",
       "      <td>NaN</td>\n",
       "      <td>NaN</td>\n",
       "      <td>NaN</td>\n",
       "      <td>1</td>\n",
       "      <td>5</td>\n",
       "    </tr>\n",
       "    <tr>\n",
       "      <th>top</th>\n",
       "      <td>NaN</td>\n",
       "      <td>NaN</td>\n",
       "      <td>NaN</td>\n",
       "      <td>NaN</td>\n",
       "      <td>NaN</td>\n",
       "      <td>NaN</td>\n",
       "      <td>NaN</td>\n",
       "      <td>NaN</td>\n",
       "      <td>N</td>\n",
       "      <td>SupInc</td>\n",
       "    </tr>\n",
       "    <tr>\n",
       "      <th>freq</th>\n",
       "      <td>NaN</td>\n",
       "      <td>NaN</td>\n",
       "      <td>NaN</td>\n",
       "      <td>NaN</td>\n",
       "      <td>NaN</td>\n",
       "      <td>NaN</td>\n",
       "      <td>NaN</td>\n",
       "      <td>NaN</td>\n",
       "      <td>1000</td>\n",
       "      <td>334</td>\n",
       "    </tr>\n",
       "    <tr>\n",
       "      <th>mean</th>\n",
       "      <td>103500.500000</td>\n",
       "      <td>7.355355</td>\n",
       "      <td>6.913828</td>\n",
       "      <td>3914.243122</td>\n",
       "      <td>2065.436561</td>\n",
       "      <td>36.789000</td>\n",
       "      <td>58707.868428</td>\n",
       "      <td>49285.833051</td>\n",
       "      <td>NaN</td>\n",
       "      <td>NaN</td>\n",
       "    </tr>\n",
       "    <tr>\n",
       "      <th>std</th>\n",
       "      <td>288.819436</td>\n",
       "      <td>7.325584</td>\n",
       "      <td>6.545925</td>\n",
       "      <td>5529.459045</td>\n",
       "      <td>4547.314237</td>\n",
       "      <td>9.808297</td>\n",
       "      <td>46424.137015</td>\n",
       "      <td>39255.939446</td>\n",
       "      <td>NaN</td>\n",
       "      <td>NaN</td>\n",
       "    </tr>\n",
       "    <tr>\n",
       "      <th>min</th>\n",
       "      <td>103001.000000</td>\n",
       "      <td>0.000000</td>\n",
       "      <td>0.000000</td>\n",
       "      <td>41.538809</td>\n",
       "      <td>5.553404</td>\n",
       "      <td>18.000000</td>\n",
       "      <td>6829.598681</td>\n",
       "      <td>0.000000</td>\n",
       "      <td>NaN</td>\n",
       "      <td>NaN</td>\n",
       "    </tr>\n",
       "    <tr>\n",
       "      <th>25%</th>\n",
       "      <td>103250.750000</td>\n",
       "      <td>2.000000</td>\n",
       "      <td>2.000000</td>\n",
       "      <td>947.274416</td>\n",
       "      <td>381.562707</td>\n",
       "      <td>29.750000</td>\n",
       "      <td>28656.648227</td>\n",
       "      <td>23795.774298</td>\n",
       "      <td>NaN</td>\n",
       "      <td>NaN</td>\n",
       "    </tr>\n",
       "    <tr>\n",
       "      <th>50%</th>\n",
       "      <td>103500.500000</td>\n",
       "      <td>5.000000</td>\n",
       "      <td>5.000000</td>\n",
       "      <td>2133.930304</td>\n",
       "      <td>900.497434</td>\n",
       "      <td>36.000000</td>\n",
       "      <td>46762.745843</td>\n",
       "      <td>39010.929379</td>\n",
       "      <td>NaN</td>\n",
       "      <td>NaN</td>\n",
       "    </tr>\n",
       "    <tr>\n",
       "      <th>75%</th>\n",
       "      <td>103750.250000</td>\n",
       "      <td>10.000000</td>\n",
       "      <td>10.000000</td>\n",
       "      <td>4575.723755</td>\n",
       "      <td>2137.803214</td>\n",
       "      <td>44.000000</td>\n",
       "      <td>75077.549495</td>\n",
       "      <td>61567.786032</td>\n",
       "      <td>NaN</td>\n",
       "      <td>NaN</td>\n",
       "    </tr>\n",
       "    <tr>\n",
       "      <th>max</th>\n",
       "      <td>104000.000000</td>\n",
       "      <td>44.000000</td>\n",
       "      <td>37.000000</td>\n",
       "      <td>58258.459493</td>\n",
       "      <td>66931.246918</td>\n",
       "      <td>68.000000</td>\n",
       "      <td>509306.055393</td>\n",
       "      <td>395355.747185</td>\n",
       "      <td>NaN</td>\n",
       "      <td>NaN</td>\n",
       "    </tr>\n",
       "  </tbody>\n",
       "</table>\n",
       "</div>"
      ],
      "text/plain": [
       "                   ID  AgnosDirec  AgnosEmpleo      DeudaExt      DeudaInt  \\\n",
       "count     1000.000000  999.000000   998.000000    999.000000    998.000000   \n",
       "unique            NaN         NaN          NaN           NaN           NaN   \n",
       "top               NaN         NaN          NaN           NaN           NaN   \n",
       "freq              NaN         NaN          NaN           NaN           NaN   \n",
       "mean    103500.500000    7.355355     6.913828   3914.243122   2065.436561   \n",
       "std        288.819436    7.325584     6.545925   5529.459045   4547.314237   \n",
       "min     103001.000000    0.000000     0.000000     41.538809      5.553404   \n",
       "25%     103250.750000    2.000000     2.000000    947.274416    381.562707   \n",
       "50%     103500.500000    5.000000     5.000000   2133.930304    900.497434   \n",
       "75%     103750.250000   10.000000    10.000000   4575.723755   2137.803214   \n",
       "max     104000.000000   44.000000    37.000000  58258.459493  66931.246918   \n",
       "\n",
       "               Edad        Ingreso       Ingreso2 Nacionalidad NivelEdu  \n",
       "count   1000.000000     999.000000    1000.000000         1000     1000  \n",
       "unique          NaN            NaN            NaN            1        5  \n",
       "top             NaN            NaN            NaN            N   SupInc  \n",
       "freq            NaN            NaN            NaN         1000      334  \n",
       "mean      36.789000   58707.868428   49285.833051          NaN      NaN  \n",
       "std        9.808297   46424.137015   39255.939446          NaN      NaN  \n",
       "min       18.000000    6829.598681       0.000000          NaN      NaN  \n",
       "25%       29.750000   28656.648227   23795.774298          NaN      NaN  \n",
       "50%       36.000000   46762.745843   39010.929379          NaN      NaN  \n",
       "75%       44.000000   75077.549495   61567.786032          NaN      NaN  \n",
       "max       68.000000  509306.055393  395355.747185          NaN      NaN  "
      ]
     },
     "execution_count": 39,
     "metadata": {},
     "output_type": "execute_result"
    }
   ],
   "source": [
    "data_set.describe(include='all')"
   ]
  },
  {
   "cell_type": "markdown",
   "metadata": {
    "id": "kqMo-GQwYEwA"
   },
   "source": [
    "La estadística descriptiva indica que tenemos un ingreso cero (inconsistencia) y algunos valores perdidos:"
   ]
  },
  {
   "cell_type": "code",
   "execution_count": 40,
   "metadata": {
    "id": "BS-nQMYYo_Yq"
   },
   "outputs": [],
   "source": [
    "data_set.loc[data_set['Ingreso2'] < 1, ['Ingreso2']] = np.nan"
   ]
  },
  {
   "cell_type": "markdown",
   "metadata": {
    "id": "J4Lh8fjdmxSA"
   },
   "source": [
    "Remplazamos los valores perdidos por la media:"
   ]
  },
  {
   "cell_type": "code",
   "execution_count": 41,
   "metadata": {
    "id": "LiLV4Dtamt8i"
   },
   "outputs": [],
   "source": [
    "data_set['AgnosEmpleo'].fillna(data_set['AgnosEmpleo'].median(skipna =True), inplace=True)\n",
    "data_set['AgnosDirec'].fillna(data_set['AgnosDirec'].median(skipna =True), inplace=True)\n",
    "data_set['Ingreso'].fillna(data_set['Ingreso'].median(skipna =True), inplace=True)\n",
    "data_set['Ingreso2'].fillna(data_set['Ingreso2'].median(skipna =True), inplace=True)\n",
    "data_set['DeudaInt'].fillna(data_set['DeudaInt'].median(skipna =True), inplace=True)\n",
    "data_set['DeudaExt'].fillna(data_set['DeudaExt'].median(skipna =True), inplace=True)"
   ]
  },
  {
   "cell_type": "markdown",
   "metadata": {
    "id": "hvxpUoGEAGKn"
   },
   "source": [
    "Creamos la variable de endeudamiento (ratio deuda total sobre ingreso)\n"
   ]
  },
  {
   "cell_type": "code",
   "execution_count": null,
   "metadata": {},
   "outputs": [],
   "source": []
  },
  {
   "cell_type": "code",
   "execution_count": 42,
   "metadata": {
    "id": "THaqusvpAK6X"
   },
   "outputs": [],
   "source": [
    "data_set['DeudaIng'] = (data_set['DeudaInt'] + data_set['DeudaExt'])/data_set['Ingreso2']"
   ]
  },
  {
   "cell_type": "markdown",
   "metadata": {
    "id": "k_fu8nBJqbnu"
   },
   "source": [
    "Ahora que no existen inconsistencias en nuestra base de datos, transformamos las variables financieras a su logaritmos (debemos hacer EXACTAMENTE lo mismo que en el modelo original)."
   ]
  },
  {
   "cell_type": "code",
   "execution_count": 43,
   "metadata": {
    "id": "auF1LT2Gqx_V"
   },
   "outputs": [],
   "source": [
    "data_set['Ln_Ingreso'] = np.log(data_set['Ingreso']+1)\n",
    "data_set['Ln_Ingreso2'] = np.log(data_set['Ingreso2']+1)\n",
    "data_set['Ln_DeudaExt'] = np.log(data_set['DeudaExt']+1)\n",
    "data_set['Ln_DeudaInt'] = np.log(data_set['DeudaInt']+1)\n",
    "del data_set['Ingreso']\n",
    "del data_set['Ingreso2']\n",
    "del data_set['DeudaExt']\n",
    "del data_set['DeudaInt']"
   ]
  },
  {
   "cell_type": "markdown",
   "metadata": {
    "id": "HmNLyGEIrGg5"
   },
   "source": [
    "Creamos ahora un nuevo dataframe, X_pre, que tendrá las 7 variables relavantes que incluía el modelo de SVM."
   ]
  },
  {
   "cell_type": "code",
   "execution_count": 44,
   "metadata": {
    "id": "0BULCJ2FFcbG"
   },
   "outputs": [],
   "source": [
    "X_pre = pd.DataFrame(data_set[['AgnosDirec','AgnosEmpleo','Edad','DeudaIng','Ln_Ingreso2','Ln_DeudaExt','Ln_DeudaInt']])"
   ]
  },
  {
   "cell_type": "code",
   "execution_count": 45,
   "metadata": {
    "id": "wJjOcoMutHvD"
   },
   "outputs": [
    {
     "name": "stdout",
     "output_type": "stream",
     "text": [
      "<class 'pandas.core.frame.DataFrame'>\n",
      "RangeIndex: 1000 entries, 0 to 999\n",
      "Data columns (total 7 columns):\n",
      " #   Column       Non-Null Count  Dtype  \n",
      "---  ------       --------------  -----  \n",
      " 0   AgnosDirec   1000 non-null   float64\n",
      " 1   AgnosEmpleo  1000 non-null   float64\n",
      " 2   Edad         1000 non-null   int64  \n",
      " 3   DeudaIng     1000 non-null   float64\n",
      " 4   Ln_Ingreso2  1000 non-null   float64\n",
      " 5   Ln_DeudaExt  1000 non-null   float64\n",
      " 6   Ln_DeudaInt  1000 non-null   float64\n",
      "dtypes: float64(6), int64(1)\n",
      "memory usage: 54.8 KB\n"
     ]
    }
   ],
   "source": [
    "X_pre.info()"
   ]
  },
  {
   "cell_type": "markdown",
   "metadata": {
    "id": "RN1ph6qPknPc"
   },
   "source": [
    "Normalizamos la base de datos:"
   ]
  },
  {
   "cell_type": "code",
   "execution_count": 46,
   "metadata": {
    "id": "x7cCNhlQkmO-"
   },
   "outputs": [],
   "source": [
    "scaler = MinMaxScaler()\n",
    "scaler_data = scaler.fit(X_pre)\n",
    "X = pd.DataFrame(scaler_data.transform(X_pre), index= X_pre.index, columns= X_pre.columns)"
   ]
  },
  {
   "cell_type": "markdown",
   "metadata": {
    "id": "lVJq2ENsrzi-"
   },
   "source": [
    "#Predicción"
   ]
  },
  {
   "cell_type": "markdown",
   "metadata": {
    "id": "OLl35eEMr2as"
   },
   "source": [
    "Con el modelo de entrenamiento y las variables independientes ya definidas y procesadas, podemos realizar la predicción de la variable objetivo como se muestra a continuación:"
   ]
  },
  {
   "cell_type": "code",
   "execution_count": 47,
   "metadata": {
    "id": "jm19ife0slbQ"
   },
   "outputs": [],
   "source": [
    "prediccion = modelo_entrenado.predict(X)"
   ]
  },
  {
   "cell_type": "markdown",
   "metadata": {
    "id": "VO9dHxgztxna"
   },
   "source": [
    "Podemos ver los resultados de predicción si imprimimos el objeto \"prediccion\", que toma el valor 1 cuando el cliente se predice como mal pagador (\"default\" o \"s\") y 0 en caso contrario (\"no default\" o \"n\")."
   ]
  },
  {
   "cell_type": "code",
   "execution_count": 48,
   "metadata": {
    "id": "6MMPFFohs6vs"
   },
   "outputs": [
    {
     "name": "stdout",
     "output_type": "stream",
     "text": [
      "[0 0 1 0 1 1 0 0 1 0 0 1 1 1 0 1 1 0 1 1 0 0 1 1 0 1 1 1 0 0 0 1 1 0 0 1 0\n",
      " 1 1 0 0 1 0 0 0 1 1 1 1 1 0 0 0 0 0 1 1 0 1 0 0 1 0 1 0 0 0 0 0 1 1 0 0 0\n",
      " 1 1 1 1 0 0 0 0 1 0 0 0 0 0 0 0 0 0 0 1 1 0 0 0 0 1 0 0 1 1 0 0 1 1 0 0 1\n",
      " 1 0 1 1 0 0 0 1 0 1 0 0 1 0 1 0 1 1 1 0 0 0 0 0 0 0 0 1 0 1 0 1 0 0 1 1 0\n",
      " 0 1 1 0 0 1 1 0 0 1 1 0 0 1 1 0 1 0 0 1 1 1 1 1 1 0 1 0 0 0 0 1 0 0 1 0 0\n",
      " 0 0 0 1 0 1 0 1 0 1 0 0 1 0 0 0 0 0 1 0 0 1 1 0 1 1 0 1 1 1 0 0 0 0 0 1 0\n",
      " 0 0 0 1 1 1 1 0 0 0 0 0 0 0 0 0 0 0 0 0 0 0 0 0 0 0 1 1 0 0 0 1 0 0 1 0 1\n",
      " 0 0 1 0 1 1 0 0 1 0 1 0 0 0 0 0 1 0 0 0 1 1 1 0 0 0 0 0 0 0 0 1 0 1 0 1 1\n",
      " 0 0 1 0 1 1 1 0 0 0 1 1 0 0 1 0 1 1 1 0 0 0 1 0 1 0 0 0 0 0 0 0 1 0 1 0 1\n",
      " 0 0 1 0 0 0 0 0 0 0 1 0 0 0 1 1 0 0 0 0 0 0 0 1 1 0 1 0 0 0 1 0 0 0 0 0 0\n",
      " 0 0 0 1 0 1 1 1 0 1 0 1 0 1 0 0 1 0 1 0 1 1 0 0 1 1 0 0 0 0 0 1 1 1 0 1 0\n",
      " 0 1 0 0 1 0 1 1 0 1 0 0 0 0 0 0 0 0 0 1 0 1 0 1 0 0 1 0 0 0 1 1 0 0 0 1 0\n",
      " 0 1 1 0 1 1 0 1 1 0 1 1 0 0 1 0 0 0 0 1 0 0 1 0 1 0 0 0 0 0 1 1 0 0 0 1 0\n",
      " 1 1 0 0 0 0 1 1 0 0 1 1 0 0 0 1 1 1 1 1 0 1 0 0 0 1 0 1 1 0 0 0 1 0 1 0 1\n",
      " 0 0 0 0 0 1 0 1 0 0 0 1 0 0 0 0 0 1 1 0 0 1 0 1 1 0 1 1 1 1 1 0 1 0 0 0 1\n",
      " 0 1 1 0 1 1 0 1 0 1 1 1 1 1 1 0 1 0 0 0 1 0 1 1 0 1 1 0 1 1 0 0 0 0 0 0 0\n",
      " 0 1 0 1 1 0 1 1 0 0 1 0 0 0 1 0 0 1 0 0 0 1 0 0 1 0 0 0 1 1 1 0 1 1 0 1 0\n",
      " 0 0 0 1 1 0 0 0 0 0 0 0 0 1 0 1 1 0 1 1 1 0 0 0 0 1 1 0 0 0 0 0 0 0 1 1 1\n",
      " 1 0 1 1 0 0 0 1 0 0 1 1 0 1 1 1 0 0 0 0 0 0 0 0 0 0 1 0 0 0 1 0 1 0 1 0 0\n",
      " 1 0 0 1 1 0 0 0 0 0 0 0 0 0 0 0 0 1 0 0 0 1 1 1 1 0 0 0 0 1 0 1 0 0 1 1 1\n",
      " 0 1 1 1 1 1 1 0 0 0 0 0 0 0 0 0 1 0 1 0 0 1 1 0 0 1 0 1 1 1 1 0 0 0 1 0 1\n",
      " 1 0 1 1 0 0 1 0 0 0 0 1 0 0 1 1 0 0 0 0 0 0 0 0 0 1 1 1 1 1 1 1 1 0 0 0 0\n",
      " 0 0 0 1 1 0 0 0 0 1 0 0 1 1 0 1 0 1 0 0 1 1 0 0 0 1 0 0 1 0 1 1 0 0 0 0 0\n",
      " 0 0 0 1 0 1 0 1 0 0 0 1 0 0 1 1 0 0 0 0 1 1 1 0 1 0 1 1 0 0 1 0 0 1 0 1 1\n",
      " 0 1 0 1 0 1 1 1 1 0 0 0 0 0 0 1 1 1 1 0 0 0 0 1 1 0 1 0 1 0 0 0 0 0 1 1 0\n",
      " 0 0 0 1 1 0 1 0 0 0 1 0 1 1 0 0 0 1 0 0 1 0 0 0 1 0 0 0 0 1 0 1 0 1 0 0 0\n",
      " 0 1 0 1 0 0 0 0 1 0 0 0 0 1 0 0 1 0 1 0 0 0 1 1 1 0 1 1 0 1 0 0 1 0 1 0 0\n",
      " 0]\n"
     ]
    }
   ],
   "source": [
    "print(prediccion)"
   ]
  },
  {
   "cell_type": "markdown",
   "metadata": {
    "id": "go_iC98fZUHs"
   },
   "source": [
    "Para realizar esta predicción, el modelo utiliza un umbral de 0.5 para la probabilidad de incumplimiento. Esto quiere decir que si p>0.5 \"prediccion\" toma el valor de 1, y cuando sea menor a este umbral toma el valor de 0.\n",
    "\n",
    "Pero cual es la mejor decisión de umbral? Contamos la cantidad de clientes predichos que caen en default:"
   ]
  },
  {
   "cell_type": "code",
   "execution_count": 49,
   "metadata": {
    "id": "hPKbKdlcZjr1"
   },
   "outputs": [
    {
     "data": {
      "text/plain": [
       "0.393"
      ]
     },
     "execution_count": 49,
     "metadata": {},
     "output_type": "execute_result"
    }
   ],
   "source": [
    "prediccion.sum()/prediccion.size"
   ]
  },
  {
   "cell_type": "markdown",
   "metadata": {
    "id": "SVJyNav5Zuv5"
   },
   "source": [
    "Recordemos que la tasa de clientes malos es de un 20% en la base original. Nuestro modelo predice, sin embargo, más de un 38% de clientes malos pagadores. Esto se debe a la corrección que hace SMOTE, que le hace creer al modelo que hay la misma cantidad tanto de clientes buenos como malos.\n",
    "\n",
    "Podemos modificar este umbral según lo que necesitamos, definiendo por ejemplo el umbral de 0.6 para tener una política de otorgamiento menos estricta. Una política muy restrictiva puede hacernos perder participación de mercado. "
   ]
  },
  {
   "cell_type": "code",
   "execution_count": 50,
   "metadata": {
    "id": "sFjc02G8x2IA"
   },
   "outputs": [],
   "source": [
    "prediccion_2 = (modelo_entrenado.predict_proba(X)[:,1] >= 0.6).astype(int)"
   ]
  },
  {
   "cell_type": "code",
   "execution_count": 51,
   "metadata": {
    "id": "AxIXuXmfx7cw"
   },
   "outputs": [
    {
     "name": "stdout",
     "output_type": "stream",
     "text": [
      "[0 0 1 0 1 1 0 0 1 0 0 1 1 1 0 1 1 0 0 1 0 0 1 1 0 1 1 0 0 0 0 1 1 0 0 1 0\n",
      " 1 1 0 0 1 0 0 0 1 1 1 0 1 0 0 0 0 0 1 1 0 1 0 0 1 0 1 0 0 0 0 0 1 0 0 0 0\n",
      " 1 1 1 1 0 0 0 0 1 0 0 0 0 0 0 0 0 0 0 1 1 0 0 0 0 0 0 0 1 1 0 0 1 1 0 0 1\n",
      " 1 0 1 0 0 0 0 1 0 1 0 0 1 0 1 0 1 1 1 0 0 0 0 0 0 0 0 1 0 1 0 1 0 0 1 1 0\n",
      " 0 1 1 0 0 1 1 0 0 0 1 0 0 1 1 0 1 0 0 1 0 1 1 1 0 0 1 0 0 0 0 1 0 0 1 0 0\n",
      " 0 0 0 1 0 1 0 1 0 1 0 0 1 0 0 0 0 0 1 0 0 1 1 0 1 1 0 1 1 0 0 0 0 0 0 1 0\n",
      " 0 0 0 1 1 0 0 0 0 0 0 0 0 0 0 0 0 0 0 0 0 0 0 0 0 0 1 1 0 0 0 1 0 0 1 0 1\n",
      " 0 0 1 0 1 1 0 0 1 0 1 0 0 0 0 0 1 0 0 0 1 1 1 0 0 0 0 0 0 0 0 1 0 1 0 0 1\n",
      " 0 0 1 0 1 1 1 0 0 0 1 1 0 0 1 0 1 1 0 0 0 0 1 0 1 0 0 0 0 0 0 0 1 0 1 0 1\n",
      " 0 0 1 0 0 0 0 0 0 0 1 0 0 0 1 1 0 0 0 0 0 0 0 0 1 0 1 0 0 0 1 0 0 0 0 0 0\n",
      " 0 0 0 1 0 1 1 1 0 1 0 1 0 1 0 0 1 0 0 0 0 1 0 0 1 0 0 0 0 0 0 0 1 1 0 1 0\n",
      " 0 0 0 0 1 0 1 1 0 1 0 0 0 0 0 0 0 0 0 0 0 1 0 1 0 0 1 0 0 0 1 1 0 0 0 1 0\n",
      " 0 1 1 0 0 0 0 1 1 0 1 0 0 0 1 0 0 0 0 1 0 0 1 0 1 0 0 0 0 0 1 1 0 0 0 1 0\n",
      " 1 1 0 0 0 0 1 1 0 0 1 1 0 0 0 1 1 0 1 1 0 1 0 0 0 1 0 1 1 0 0 0 1 0 0 0 1\n",
      " 0 0 0 0 0 1 0 1 0 0 0 1 0 0 0 0 0 1 1 0 0 1 0 1 1 0 1 1 0 1 1 0 1 0 0 0 1\n",
      " 0 1 1 0 1 1 0 1 0 1 1 1 1 0 1 0 1 0 0 0 1 0 1 0 0 1 0 0 1 0 0 0 0 0 0 0 0\n",
      " 0 1 0 1 0 0 1 1 0 0 0 0 0 0 1 0 0 1 0 0 0 1 0 0 1 0 0 0 1 1 1 0 1 1 0 1 0\n",
      " 0 0 0 1 1 0 0 0 0 0 0 0 0 1 0 1 1 0 1 1 1 0 0 0 0 1 1 0 0 0 0 0 0 0 1 1 1\n",
      " 1 0 1 1 0 0 0 1 0 0 1 1 0 1 1 1 0 0 0 0 0 0 0 0 0 0 1 0 0 0 1 0 1 0 1 0 0\n",
      " 1 0 0 1 0 0 0 0 0 0 0 0 0 0 0 0 0 1 0 0 0 1 1 1 1 0 0 0 0 1 0 1 0 0 1 1 1\n",
      " 0 1 1 1 1 1 1 0 0 0 0 0 0 0 0 0 1 0 1 0 0 1 1 0 0 1 0 1 1 1 1 0 0 0 1 0 1\n",
      " 1 0 1 0 0 0 1 0 0 0 0 1 0 0 1 1 0 0 0 0 0 0 0 0 0 1 1 1 1 1 1 1 1 0 0 0 0\n",
      " 0 0 0 1 1 0 0 0 0 1 0 0 1 1 0 0 0 1 0 0 1 1 0 0 0 1 0 0 1 0 1 1 0 0 0 0 0\n",
      " 0 0 0 1 0 1 0 1 0 0 0 1 0 0 0 1 0 0 0 0 1 1 1 0 1 0 1 1 0 0 1 0 0 1 0 1 1\n",
      " 0 1 0 1 0 1 1 1 1 0 0 0 0 0 0 1 1 1 0 0 0 0 0 1 1 0 1 0 1 0 0 0 0 0 1 1 0\n",
      " 0 0 0 1 1 0 1 0 0 0 1 0 1 1 0 0 0 0 0 0 1 0 0 0 0 0 0 0 0 1 0 0 0 1 0 0 0\n",
      " 0 1 0 1 0 0 0 0 1 0 0 0 0 1 0 0 1 0 1 0 0 0 0 1 1 0 1 1 0 1 0 0 0 0 1 0 0\n",
      " 0]\n"
     ]
    }
   ],
   "source": [
    "print(prediccion_2)"
   ]
  },
  {
   "cell_type": "markdown",
   "metadata": {
    "id": "GqMzt8_1aUUZ"
   },
   "source": [
    "Nuevamente contamos la cantidad de defaulters con este nuevo umbral:"
   ]
  },
  {
   "cell_type": "code",
   "execution_count": 52,
   "metadata": {
    "id": "OL2WVjsvz7yP"
   },
   "outputs": [
    {
     "data": {
      "text/plain": [
       "0.35"
      ]
     },
     "execution_count": 52,
     "metadata": {},
     "output_type": "execute_result"
    }
   ],
   "source": [
    "prediccion_2.sum()/prediccion_2.size"
   ]
  },
  {
   "cell_type": "markdown",
   "metadata": {
    "id": "qzDheIf4bJjm"
   },
   "source": [
    "Podemos ver que los *defaulters* disminuyen al aumentar el umbral (desde un 38% a un 33% aproximadamente). Es posible modificar este criterio según los costos y beneficios del modelo."
   ]
  },
  {
   "cell_type": "markdown",
   "metadata": {
    "id": "yL-Z0tR8vVCI"
   },
   "source": [
    "#Exportar datos a excel"
   ]
  },
  {
   "cell_type": "markdown",
   "metadata": {
    "id": "nQOrXVj-uWX5"
   },
   "source": [
    "Finalmente, armamos la base de datos con todas las variables originales y le agregamos la variable predicha para tener toda la información del cliente y luego exportar a excel estos datos y poder trabajar con ellos."
   ]
  },
  {
   "cell_type": "markdown",
   "metadata": {
    "id": "6sbUPV4hrlI5"
   },
   "source": [
    "Primero tenemos que transformar las variables que transformamos a logaritmos a su escala original"
   ]
  },
  {
   "cell_type": "code",
   "execution_count": 53,
   "metadata": {
    "id": "-9PKcvWQrwpy"
   },
   "outputs": [],
   "source": [
    "data_set['Ingreso'] = np.exp(data_set['Ln_Ingreso'])-1\n",
    "data_set['Ingreso2'] = np.exp(data_set['Ln_Ingreso2'])-1\n",
    "data_set['DeudaExt'] = np.exp(data_set['Ln_DeudaExt'])-1\n",
    "data_set['DeudaInt'] = np.exp(data_set['Ln_DeudaInt'])-1\n",
    "del data_set['Ln_Ingreso']\n",
    "del data_set['Ln_Ingreso2']\n",
    "del data_set['Ln_DeudaExt']\n",
    "del data_set['Ln_DeudaInt']"
   ]
  },
  {
   "cell_type": "markdown",
   "metadata": {
    "id": "UdJoYi5fszrK"
   },
   "source": [
    "Ahora con las variables listas agregamos la variable de predicción a nuestra base de datos"
   ]
  },
  {
   "cell_type": "code",
   "execution_count": 54,
   "metadata": {
    "id": "X292h9Qcuxwi"
   },
   "outputs": [],
   "source": [
    "data_set['VarObj'] = prediccion_2"
   ]
  },
  {
   "cell_type": "markdown",
   "metadata": {
    "id": "Kooxd37eboI2"
   },
   "source": [
    "Por último, exportamos la base de datos a excel y la guardamos en nuestro drive:"
   ]
  },
  {
   "cell_type": "code",
   "execution_count": 55,
   "metadata": {},
   "outputs": [],
   "source": [
    "path = \"C:\\\\Users\\\\PC SITOS\\\\AnalyticsYbigData\\\\creditSIM_prediccion.csv\"\n",
    "data_set.to_csv(path, index=False)"
   ]
  },
  {
   "cell_type": "code",
   "execution_count": null,
   "metadata": {
    "id": "I2f6MlA7br-Q"
   },
   "outputs": [],
   "source": []
  }
 ],
 "metadata": {
  "colab": {
   "collapsed_sections": [],
   "name": "04 Laboratorio Prediccion Libro.ipynb",
   "provenance": [
    {
     "file_id": "1rgNxH4E7y4ougeLySquzkCVz05yK4UnK",
     "timestamp": 1619700077954
    }
   ]
  },
  "kernelspec": {
   "display_name": "Python 3 (ipykernel)",
   "language": "python",
   "name": "python3"
  },
  "language_info": {
   "codemirror_mode": {
    "name": "ipython",
    "version": 3
   },
   "file_extension": ".py",
   "mimetype": "text/x-python",
   "name": "python",
   "nbconvert_exporter": "python",
   "pygments_lexer": "ipython3",
   "version": "3.10.8"
  }
 },
 "nbformat": 4,
 "nbformat_minor": 4
}
